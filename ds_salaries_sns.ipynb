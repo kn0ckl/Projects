{
 "cells": [
  {
   "cell_type": "markdown",
   "metadata": {},
   "source": [
    "<span style=\"text-transform: uppercase;\">ИССЛЕДОВАНИЕ ДАННЫХ HR-АГЕНТСТВА</span>"
   ]
  },
  {
   "cell_type": "code",
   "execution_count": 188,
   "metadata": {},
   "outputs": [],
   "source": [
    "# Импортируем необходимые библиотеки\n",
    "import pandas as pd\n",
    "import numpy as np\n",
    "import matplotlib.pyplot as plt\n",
    "import seaborn as sns\n",
    "import plotly.express as px\n",
    "from plotly.subplots import make_subplots\n",
    "import plotly.graph_objects as go\n",
    "import scipy.stats as stats\n",
    "from scipy.stats import mannwhitneyu\n",
    "from scipy.stats import chi2_contingency\n",
    "import plotly.offline as pyo"
   ]
  },
  {
   "cell_type": "markdown",
   "metadata": {},
   "source": [
    "<span style=\"text-transform: uppercase;\">Часть 1. Загрузка и обработка данных.</span>"
   ]
  },
  {
   "cell_type": "code",
   "execution_count": 189,
   "metadata": {},
   "outputs": [
    {
     "data": {
      "text/html": [
       "<div>\n",
       "<style scoped>\n",
       "    .dataframe tbody tr th:only-of-type {\n",
       "        vertical-align: middle;\n",
       "    }\n",
       "\n",
       "    .dataframe tbody tr th {\n",
       "        vertical-align: top;\n",
       "    }\n",
       "\n",
       "    .dataframe thead th {\n",
       "        text-align: right;\n",
       "    }\n",
       "</style>\n",
       "<table border=\"1\" class=\"dataframe\">\n",
       "  <thead>\n",
       "    <tr style=\"text-align: right;\">\n",
       "      <th></th>\n",
       "      <th>work_year</th>\n",
       "      <th>experience_level</th>\n",
       "      <th>employment_type</th>\n",
       "      <th>job_title</th>\n",
       "      <th>salary</th>\n",
       "      <th>salary_currency</th>\n",
       "      <th>salary_in_usd</th>\n",
       "      <th>employee_residence</th>\n",
       "      <th>remote_ratio</th>\n",
       "      <th>company_location</th>\n",
       "      <th>company_size</th>\n",
       "    </tr>\n",
       "  </thead>\n",
       "  <tbody>\n",
       "    <tr>\n",
       "      <th>0</th>\n",
       "      <td>2020</td>\n",
       "      <td>MI</td>\n",
       "      <td>FT</td>\n",
       "      <td>Data Scientist</td>\n",
       "      <td>70000</td>\n",
       "      <td>EUR</td>\n",
       "      <td>79833</td>\n",
       "      <td>DE</td>\n",
       "      <td>0</td>\n",
       "      <td>DE</td>\n",
       "      <td>L</td>\n",
       "    </tr>\n",
       "    <tr>\n",
       "      <th>1</th>\n",
       "      <td>2020</td>\n",
       "      <td>SE</td>\n",
       "      <td>FT</td>\n",
       "      <td>Machine Learning Scientist</td>\n",
       "      <td>260000</td>\n",
       "      <td>USD</td>\n",
       "      <td>260000</td>\n",
       "      <td>JP</td>\n",
       "      <td>0</td>\n",
       "      <td>JP</td>\n",
       "      <td>S</td>\n",
       "    </tr>\n",
       "    <tr>\n",
       "      <th>2</th>\n",
       "      <td>2020</td>\n",
       "      <td>SE</td>\n",
       "      <td>FT</td>\n",
       "      <td>Big Data Engineer</td>\n",
       "      <td>85000</td>\n",
       "      <td>GBP</td>\n",
       "      <td>109024</td>\n",
       "      <td>GB</td>\n",
       "      <td>50</td>\n",
       "      <td>GB</td>\n",
       "      <td>M</td>\n",
       "    </tr>\n",
       "    <tr>\n",
       "      <th>3</th>\n",
       "      <td>2020</td>\n",
       "      <td>MI</td>\n",
       "      <td>FT</td>\n",
       "      <td>Product Data Analyst</td>\n",
       "      <td>20000</td>\n",
       "      <td>USD</td>\n",
       "      <td>20000</td>\n",
       "      <td>HN</td>\n",
       "      <td>0</td>\n",
       "      <td>HN</td>\n",
       "      <td>S</td>\n",
       "    </tr>\n",
       "    <tr>\n",
       "      <th>4</th>\n",
       "      <td>2020</td>\n",
       "      <td>SE</td>\n",
       "      <td>FT</td>\n",
       "      <td>Machine Learning Engineer</td>\n",
       "      <td>150000</td>\n",
       "      <td>USD</td>\n",
       "      <td>150000</td>\n",
       "      <td>US</td>\n",
       "      <td>50</td>\n",
       "      <td>US</td>\n",
       "      <td>L</td>\n",
       "    </tr>\n",
       "  </tbody>\n",
       "</table>\n",
       "</div>"
      ],
      "text/plain": [
       "   work_year experience_level employment_type                   job_title  \\\n",
       "0       2020               MI              FT              Data Scientist   \n",
       "1       2020               SE              FT  Machine Learning Scientist   \n",
       "2       2020               SE              FT           Big Data Engineer   \n",
       "3       2020               MI              FT        Product Data Analyst   \n",
       "4       2020               SE              FT   Machine Learning Engineer   \n",
       "\n",
       "   salary salary_currency  salary_in_usd employee_residence  remote_ratio  \\\n",
       "0   70000             EUR          79833                 DE             0   \n",
       "1  260000             USD         260000                 JP             0   \n",
       "2   85000             GBP         109024                 GB            50   \n",
       "3   20000             USD          20000                 HN             0   \n",
       "4  150000             USD         150000                 US            50   \n",
       "\n",
       "  company_location company_size  \n",
       "0               DE            L  \n",
       "1               JP            S  \n",
       "2               GB            M  \n",
       "3               HN            S  \n",
       "4               US            L  "
      ]
     },
     "execution_count": 189,
     "metadata": {},
     "output_type": "execute_result"
    }
   ],
   "source": [
    "# Прочитаем файл и посмотрим на структуру файла\n",
    "data = pd.read_csv('data/ds_salaries.csv')\n",
    "data.head()"
   ]
  },
  {
   "cell_type": "code",
   "execution_count": 190,
   "metadata": {},
   "outputs": [
    {
     "data": {
      "text/plain": [
       "(607, 11)"
      ]
     },
     "execution_count": 190,
     "metadata": {},
     "output_type": "execute_result"
    }
   ],
   "source": [
    "# Узнем  размерность наших данных с помощью метода shape\n",
    "data.shape"
   ]
  },
  {
   "cell_type": "code",
   "execution_count": 191,
   "metadata": {},
   "outputs": [
    {
     "data": {
      "text/plain": [
       "(71, 11)"
      ]
     },
     "execution_count": 191,
     "metadata": {},
     "output_type": "execute_result"
    }
   ],
   "source": [
    "# Посмотрим на наличие дубликатов с помощью метода duplicated(), передадим параметр keep=False, чтобы посмотреть все вхождения дупликатов\n",
    "duplicates = data[data.duplicated(keep=False)]\n",
    "duplicates.shape"
   ]
  },
  {
   "cell_type": "code",
   "execution_count": 192,
   "metadata": {},
   "outputs": [],
   "source": [
    "# В данных 71 дупликат, избавимся от дупликатов используя метод drop_duplicates(), оставив только \n",
    "# Первое вхождение, используем параметр keep='first'\n",
    "data = data.drop_duplicates(keep='first')"
   ]
  },
  {
   "cell_type": "code",
   "execution_count": 193,
   "metadata": {},
   "outputs": [
    {
     "name": "stdout",
     "output_type": "stream",
     "text": [
      "<class 'pandas.core.frame.DataFrame'>\n",
      "Int64Index: 565 entries, 0 to 606\n",
      "Data columns (total 11 columns):\n",
      " #   Column              Non-Null Count  Dtype \n",
      "---  ------              --------------  ----- \n",
      " 0   work_year           565 non-null    int64 \n",
      " 1   experience_level    565 non-null    object\n",
      " 2   employment_type     565 non-null    object\n",
      " 3   job_title           565 non-null    object\n",
      " 4   salary              565 non-null    int64 \n",
      " 5   salary_currency     565 non-null    object\n",
      " 6   salary_in_usd       565 non-null    int64 \n",
      " 7   employee_residence  565 non-null    object\n",
      " 8   remote_ratio        565 non-null    int64 \n",
      " 9   company_location    565 non-null    object\n",
      " 10  company_size        565 non-null    object\n",
      "dtypes: int64(4), object(7)\n",
      "memory usage: 53.0+ KB\n"
     ]
    }
   ],
   "source": [
    "# С помощью метода info() посмотрим информацию о типах данных в таблице, а также информацию о заполненности\n",
    "data.info()"
   ]
  },
  {
   "cell_type": "markdown",
   "metadata": {},
   "source": [
    "Видим, что пропуски в данных отсутствуют."
   ]
  },
  {
   "cell_type": "code",
   "execution_count": 194,
   "metadata": {},
   "outputs": [],
   "source": [
    "# Удалим признаки зарплата и валюта выплачиваемой зарплаты, оставим только признак зарплата в USD\n",
    "data = data.drop(columns=['salary', 'salary_currency'], axis=1)"
   ]
  },
  {
   "cell_type": "code",
   "execution_count": 195,
   "metadata": {},
   "outputs": [],
   "source": [
    "# Переименуем признак salary in usd в salary с помощщью метода rename() для удобства\n",
    "data.rename(columns={'salary_in_usd':'salary'}, inplace=True)"
   ]
  },
  {
   "cell_type": "markdown",
   "metadata": {},
   "source": [
    "Посмотрев на наши данные можем классифицировать признаки на числовые (колличесвтенные) и категориальные.  \n",
    "Признак года определим к категориальным (в наших данных рассматриваются только три года)\n",
    "Числовые: salary  \n",
    "Категориальные: work_year, experience_level, employment_type, employee_residence, remote_ratio, company_location, company_size"
   ]
  },
  {
   "cell_type": "code",
   "execution_count": 196,
   "metadata": {},
   "outputs": [
    {
     "data": {
      "text/plain": [
       "count       565.000000\n",
       "mean     110610.343363\n",
       "std       72280.702792\n",
       "min        2859.000000\n",
       "25%       60757.000000\n",
       "50%      100000.000000\n",
       "75%      150000.000000\n",
       "max      600000.000000\n",
       "Name: salary, dtype: float64"
      ]
     },
     "execution_count": 196,
     "metadata": {},
     "output_type": "execute_result"
    }
   ],
   "source": [
    "# Посмотрим на основные статистические характеристики числового признака с помощью метода describe()\n",
    "data['salary'].describe()"
   ]
  },
  {
   "cell_type": "code",
   "execution_count": 197,
   "metadata": {},
   "outputs": [
    {
     "data": {
      "text/html": [
       "<div>\n",
       "<style scoped>\n",
       "    .dataframe tbody tr th:only-of-type {\n",
       "        vertical-align: middle;\n",
       "    }\n",
       "\n",
       "    .dataframe tbody tr th {\n",
       "        vertical-align: top;\n",
       "    }\n",
       "\n",
       "    .dataframe thead th {\n",
       "        text-align: right;\n",
       "    }\n",
       "</style>\n",
       "<table border=\"1\" class=\"dataframe\">\n",
       "  <thead>\n",
       "    <tr style=\"text-align: right;\">\n",
       "      <th></th>\n",
       "      <th>work_year</th>\n",
       "      <th>experience_level</th>\n",
       "      <th>employment_type</th>\n",
       "      <th>job_title</th>\n",
       "      <th>employee_residence</th>\n",
       "      <th>remote_ratio</th>\n",
       "      <th>company_location</th>\n",
       "      <th>company_size</th>\n",
       "    </tr>\n",
       "  </thead>\n",
       "  <tbody>\n",
       "    <tr>\n",
       "      <th>count</th>\n",
       "      <td>565</td>\n",
       "      <td>565</td>\n",
       "      <td>565</td>\n",
       "      <td>565</td>\n",
       "      <td>565</td>\n",
       "      <td>565</td>\n",
       "      <td>565</td>\n",
       "      <td>565</td>\n",
       "    </tr>\n",
       "    <tr>\n",
       "      <th>unique</th>\n",
       "      <td>3</td>\n",
       "      <td>4</td>\n",
       "      <td>4</td>\n",
       "      <td>50</td>\n",
       "      <td>57</td>\n",
       "      <td>3</td>\n",
       "      <td>50</td>\n",
       "      <td>3</td>\n",
       "    </tr>\n",
       "    <tr>\n",
       "      <th>top</th>\n",
       "      <td>2022</td>\n",
       "      <td>SE</td>\n",
       "      <td>FT</td>\n",
       "      <td>Data Scientist</td>\n",
       "      <td>US</td>\n",
       "      <td>100</td>\n",
       "      <td>US</td>\n",
       "      <td>M</td>\n",
       "    </tr>\n",
       "    <tr>\n",
       "      <th>freq</th>\n",
       "      <td>278</td>\n",
       "      <td>243</td>\n",
       "      <td>546</td>\n",
       "      <td>130</td>\n",
       "      <td>295</td>\n",
       "      <td>346</td>\n",
       "      <td>318</td>\n",
       "      <td>290</td>\n",
       "    </tr>\n",
       "  </tbody>\n",
       "</table>\n",
       "</div>"
      ],
      "text/plain": [
       "        work_year experience_level employment_type       job_title  \\\n",
       "count         565              565             565             565   \n",
       "unique          3                4               4              50   \n",
       "top          2022               SE              FT  Data Scientist   \n",
       "freq          278              243             546             130   \n",
       "\n",
       "       employee_residence  remote_ratio company_location company_size  \n",
       "count                 565           565              565          565  \n",
       "unique                 57             3               50            3  \n",
       "top                    US           100               US            M  \n",
       "freq                  295           346              318          290  "
      ]
     },
     "execution_count": 197,
     "metadata": {},
     "output_type": "execute_result"
    }
   ],
   "source": [
    "# Приведем категориальные признаки к типуданных object с помощью метода astype(), затем посмотрим описательную статистику для этих признаков\n",
    "cat_col = ['work_year', 'experience_level', 'employment_type', 'job_title', 'employee_residence', 'remote_ratio', 'company_location', 'company_size']\n",
    "data[cat_col] = data[cat_col].astype('object')\n",
    "data[cat_col].describe(include='object')"
   ]
  },
  {
   "cell_type": "markdown",
   "metadata": {},
   "source": [
    "ЧАСТЬ 2.1 ВИЗУАЛЬНЫЙ АНАЛИЗ ДАННЫХ"
   ]
  },
  {
   "cell_type": "code",
   "execution_count": 198,
   "metadata": {},
   "outputs": [
    {
     "data": {
      "image/png": "[encoded data removed]",
      "text/plain": [
       "<Figure size 864x432 with 1 Axes>"
      ]
     },
     "metadata": {},
     "output_type": "display_data"
    }
   ],
   "source": [
    "# Построим гистограмму распределения колличества анкет по зарплатам\n",
    "# Настройка стиля графика\n",
    "sns.set(style=\"whitegrid\")\n",
    "\n",
    "# Создание графика\n",
    "plt.figure(figsize=(12, 6))\n",
    "sns.histplot(data=data, x='salary', kde=True)\n",
    "plt.title('Распределение зарплат')\n",
    "plt.xlabel('Зарплата')\n",
    "plt.ylabel('Количество анкет')\n",
    "\n",
    "# Отображение графика\n",
    "plt.show()"
   ]
  },
  {
   "cell_type": "markdown",
   "metadata": {},
   "source": [
    "На данном графике видим, что большее количество заработных плат расположено в промежутке от 60 тысяч до 150т"
   ]
  },
  {
   "cell_type": "code",
   "execution_count": 199,
   "metadata": {},
   "outputs": [
    {
     "data": {
      "image/png": "[encoded data removed]",
      "text/plain": [
       "<Figure size 864x432 with 1 Axes>"
      ]
     },
     "metadata": {},
     "output_type": "display_data"
    }
   ],
   "source": [
    "# Теперь построим столбчатую диаграмму распределения по годам\n",
    "# Настройка стиля графика\n",
    "sns.set(style=\"whitegrid\")\n",
    "\n",
    "# Группируем данные\n",
    "bar_data3 = data[data['salary']<300000].groupby('work_year', as_index=False).mean()\n",
    "\n",
    "# Создание столбчатой диаграммы\n",
    "plt.figure(figsize=(12, 6))\n",
    "sns.barplot(data=bar_data3_filtered, x='work_year', y='salary')\n",
    "plt.title('Средняя з/п в зависимости от года')\n",
    "plt.xlabel('Год')\n",
    "plt.ylabel('Зарплата')\n",
    "\n",
    "# Отображение графика\n",
    "plt.show()"
   ]
  },
  {
   "cell_type": "markdown",
   "metadata": {},
   "source": [
    "На данном графике мы видим, что средняя з/п растет с каждым годом."
   ]
  },
  {
   "cell_type": "code",
   "execution_count": 200,
   "metadata": {},
   "outputs": [
    {
     "data": {
      "image/png": "[encoded data removed]",
      "text/plain": [
       "<Figure size 864x432 with 1 Axes>"
      ]
     },
     "metadata": {},
     "output_type": "display_data"
    }
   ],
   "source": [
    "# Построим столбчатую диаграмму распределения зарплат по ролям, посмотрим\n",
    "# Группируем данные\n",
    "bar_data4 = data[data['salary']<300000].groupby('job_title', as_index=False).mean().sort_values(by='salary', ascending=False).head(10)\n",
    "\n",
    "# Создание столбчатой диаграммы\n",
    "plt.figure(figsize=(12, 6))\n",
    "sns.barplot(data=bar_data4, x='salary', y='job_title', orient='h')\n",
    "plt.title('Средняя з/п в зависимости от роли')\n",
    "plt.xlabel('Зарплата')\n",
    "plt.ylabel('Роль')\n",
    "\n",
    "# Отображение графика\n",
    "plt.show()"
   ]
  },
  {
   "cell_type": "markdown",
   "metadata": {},
   "source": [
    "По этому графику видим, что  зарплаты выше у руководителей/высоких должностей. Зависимость наблюдается."
   ]
  },
  {
   "cell_type": "code",
   "execution_count": 201,
   "metadata": {},
   "outputs": [],
   "source": [
    "# Создание списков ключевых слов по ролям\n",
    "science  = ['science', 'scientist']\n",
    "engineering = ['engineer', 'engineering']\n",
    "additional_condition = 'data'\n",
    "\n",
    "# Создание функции для формирования новых датасетов, включающих только данные по определенным ролям\n",
    "def search_jobs(data, keywords, additional_condition):\n",
    "    matching_rows = []\n",
    "    for index, row in data.iterrows():\n",
    "        keyword_match = any(keyword.lower() in row['job_title'].lower() for keyword in keywords)\n",
    "        condition_match = additional_condition in row['job_title'].lower()\n",
    "        if keyword_match and condition_match:\n",
    "            matching_rows.append(index)\n",
    "    return data.loc[matching_rows]\n",
    "\n",
    "# Создание датасета, включающего только 2022 год\n",
    "data_year_2022 = data[data['work_year'] == 2022]\n",
    "\n",
    "# Создание датасетов включающих только определенных специалистов\n",
    "data_scientists = search_jobs(data, science, additional_condition)\n",
    "data_engineer = search_jobs(data, engineering, additional_condition)\n",
    "\n",
    "# Создание датасетов включающих только определенных специалистов в 2022 году\n",
    "data_scientists2022 = search_jobs(data_year_2022, science, additional_condition)\n",
    "data_engineer2022 = search_jobs(data_year_2022, engineering, additional_condition)\n",
    "\n",
    "# Группировка данных по роли\n",
    "grouped_data_scientist_2022 = data_scientists2022[data_scientists2022['salary']<300000].groupby('job_title', as_index=False).mean()\n",
    "grouped_data_engineer_2022  = data_engineer2022[data_engineer2022['salary']<300000].groupby('job_title', as_index=False).mean()"
   ]
  },
  {
   "cell_type": "code",
   "execution_count": 202,
   "metadata": {},
   "outputs": [],
   "source": [
    "# Создание признаков 'has_data_scientist' и 'has_data_engineer'\n",
    "data['has_data_scientist'] = search_jobs(data, science, additional_condition)['job_title'].apply(lambda x: True)\n",
    "data['has_data_engineer'] = search_jobs(data, engineering, additional_condition)['job_title'].apply(lambda x: True)"
   ]
  },
  {
   "cell_type": "code",
   "execution_count": 203,
   "metadata": {},
   "outputs": [
    {
     "data": {
      "image/png": "[encoded data removed]",
      "text/plain": [
       "<Figure size 864x432 with 1 Axes>"
      ]
     },
     "metadata": {},
     "output_type": "display_data"
    },
    {
     "data": {
      "image/png": "[encoded data removed]",
      "text/plain": [
       "<Figure size 864x432 with 1 Axes>"
      ]
     },
     "metadata": {},
     "output_type": "display_data"
    },
    {
     "data": {
      "image/png": "[encoded data removed]",
      "text/plain": [
       "<Figure size 576x432 with 1 Axes>"
      ]
     },
     "metadata": {},
     "output_type": "display_data"
    }
   ],
   "source": [
    "# Создание столбчатой диаграммы для данных Data Scientist в 2022\n",
    "plt.figure(figsize=(12, 6))\n",
    "sns.barplot(data=grouped_data_scientist_2022, x='salary', y='job_title', orient='h')\n",
    "plt.title('Зарплаты Data Scientist в 2022')\n",
    "plt.xlabel('Зарплата')\n",
    "plt.ylabel('Роль')\n",
    "\n",
    "# Отображение графика\n",
    "plt.show()\n",
    "\n",
    "# Создание столбчатой диаграммы для данных Data Engineer в 2022\n",
    "plt.figure(figsize=(12, 6))\n",
    "sns.barplot(data=grouped_data_engineer_2022, x='salary', y='job_title', orient='h')\n",
    "plt.title('Зарплаты Data Engineer в 2022')\n",
    "plt.xlabel('Зарплата')\n",
    "plt.ylabel('Роль')\n",
    "\n",
    "# Отображение графика\n",
    "plt.show()\n",
    "\n",
    "# Вычисление средних зарплат для сравнения\n",
    "avg_salary_scientist = grouped_data_scientist_2022[grouped_data_scientist_2022['salary']<300000]['salary'].mean()\n",
    "avg_salary_engineer = grouped_data_engineer_2022[grouped_data_engineer_2022['salary']<300000]['salary'].mean()\n",
    "\n",
    "# Создание графика сравнения средних зарплат\n",
    "plt.figure(figsize=(8, 6))\n",
    "sns.barplot(x=['Data Scientist', 'Data Engineer'], y=[avg_salary_scientist, avg_salary_engineer])\n",
    "plt.title('Средние зарплаты в 2022')\n",
    "plt.xlabel('Роль')\n",
    "plt.ylabel('Средняя зарплата')\n",
    "\n",
    "# Отображение графика\n",
    "plt.show()"
   ]
  },
  {
   "cell_type": "markdown",
   "metadata": {},
   "source": [
    "На первых двух графиках мы видим, что в данных областях зарплаты руководителей/сотрудников вышестоящей должности также выше. На третьем графике видим, что средняя зарплата Data Scientist в 2022 году выше, чем у Data Engineer."
   ]
  },
  {
   "cell_type": "code",
   "execution_count": 204,
   "metadata": {},
   "outputs": [
    {
     "data": {
      "image/png": "[encoded data removed]",
      "text/plain": [
       "<Figure size 864x432 with 1 Axes>"
      ]
     },
     "metadata": {},
     "output_type": "display_data"
    },
    {
     "data": {
      "image/png": "[encoded data removed]",
      "text/plain": [
       "<Figure size 864x432 with 1 Axes>"
      ]
     },
     "metadata": {},
     "output_type": "display_data"
    }
   ],
   "source": [
    "# Построим стобчатые диаграммы и посмотрим на зависимость зарплат от опыта работы и типа трудоустройства, предварительно сгруппировав данные\n",
    "# Здесь и на последующих графиках будем рассматривать без выбросов (зарплата больше 300 тысяч)\n",
    "\n",
    "data_filtered = data[data['salary'] < 300000]\n",
    "\n",
    "# Построение столбчатой диаграммы для опыта работы\n",
    "plt.figure(figsize=(12, 6))\n",
    "sns.barplot(data=data_filtered, x='salary', y='experience_level', orient='h')\n",
    "plt.title('Средняя зарплата в зависимости от опыта работы')\n",
    "plt.xlabel('Зарплата')\n",
    "plt.ylabel('Опыт работы')\n",
    "plt.show()\n",
    "\n",
    "# Построение столбчатой диаграммы для типа трудоустройства\n",
    "plt.figure(figsize=(12, 6))\n",
    "sns.barplot(data=data_filtered, x='salary', y='employment_type', orient='h')\n",
    "plt.title('Средняя зарплата в зависимости от типа трудоустройства')\n",
    "plt.xlabel('Зарплата')\n",
    "plt.ylabel('Тип трудоустройства')\n",
    "plt.show()"
   ]
  },
  {
   "cell_type": "markdown",
   "metadata": {},
   "source": [
    "На первом графике видим, что з/п растет от уровня опыта, меньше всех получают Entry-level/Junior - среднее значение 62т, затем MI — Mid-level/Intermediate со средним значение 83т, и больше всех уже Senior-level/Expert и Executive-level/Director - 135т и 160т соответственно.  \n",
    "Что касается типа трудоустройства, то видим, что люди на неполном рабочем дне зарабатывают меньше всех, затем идет фриланс, а больше всех получают те кто работает полный рабочий день и те, у кого контракт, их средние значения близки и равны соответственно 107т и 127т."
   ]
  },
  {
   "cell_type": "code",
   "execution_count": 222,
   "metadata": {},
   "outputs": [
    {
     "data": {
      "image/png": "[encoded data removed]",
      "text/plain": [
       "<Figure size 1080x360 with 3 Axes>"
      ]
     },
     "metadata": {},
     "output_type": "display_data"
    }
   ],
   "source": [
    "# Группировка данных и подсчет количества анкет для Data Scientist и Data Engineer\n",
    "count_scientist = data_scientists.groupby('company_size').size().reset_index(name='count')\n",
    "count_engineer = data_engineer.groupby('company_size').size().reset_index(name='count')\n",
    "\n",
    "# Группировка данных и подсчет общего количества анкет по типу компании для data\n",
    "count_company_type_data = data.groupby('company_size').size().reset_index(name='count')\n",
    "\n",
    "# Создание подграфиков\n",
    "plt.figure(figsize=(15, 5))\n",
    "\n",
    "# График для Data Scientists\n",
    "plt.subplot(131)\n",
    "sns.barplot(x='company_size', y='count', data=count_scientist)\n",
    "plt.title('Data Scientists')\n",
    "plt.xlabel('Размер компании')\n",
    "plt.ylabel('Количество данных')\n",
    "\n",
    "# График для Data Engineers\n",
    "plt.subplot(132)\n",
    "sns.barplot(x='company_size', y='count', data=count_engineer)\n",
    "plt.title('Data Engineers')\n",
    "plt.xlabel('Размер компании')\n",
    "plt.ylabel('Количество данных')\n",
    "\n",
    "# График для общего количества анкет\n",
    "plt.subplot(133)\n",
    "sns.barplot(x='company_size', y='count', data=count_company_type_data)\n",
    "plt.title('Общее количество анкет')\n",
    "plt.xlabel('Размер компании')\n",
    "plt.ylabel('Количество данных')\n",
    "\n",
    "# Настройка расположения графиков\n",
    "plt.tight_layout()\n",
    "\n",
    "# Отображение графиков\n",
    "plt.show()"
   ]
  },
  {
   "cell_type": "markdown",
   "metadata": {},
   "source": [
    "Глядя на эти графики, видим, что в основном анкеты Data Scientists и Data Engineers из средних по величине компаний, в меньшей степени в больших и намного меньше в маленьких компаниях."
   ]
  },
  {
   "cell_type": "markdown",
   "metadata": {},
   "source": [
    "Опираясь на построенные графики можем сделать предварительный вывод, что заработная плата напрямую зависит от опыта работы и, соответственно, занимаемой роли. Также влияет тип трудоустройства, чем сотрудник больше работает, тем больше и получает, что логично. Обращая внимание на размер компании, можем выделить, что в средних по величине компаниях самая большая средняя зарплата, в самых больших незначительно меньше, в отличии от маленьких, где средняя зарплата меньше в 1.5 раза, такая же ситуация наблюдается у специалистов Data Science. Еще мы видим, что зарплаты Data Scientist значительно выше, чем зарплаты Data Engineer в 2022 году.Также самая большая средняя зарплата наблюдается у полностью удаленных сотрудников, а у сотрудников выполняющих 50% работы удаленно самыые маленькие зарплаты. Еще можем отметить рост зарплат с каждым годом. Также, можем отметить, что наличие должностей Data Scientists и Data Engineers распределяется следующим образом: в основном они есть в средних компаниях, значительно меньше в больших и почти отсутствуют в маленьких компаниях.Что касается зависимости от стран, то можем выделить только США, офисы из этой страны и сотрудники, у которых это основная страна проживания находятся в тройке лидеров по обоим показателям, скорее всего эти факторы не влияют на заработную плату."
   ]
  },
  {
   "cell_type": "markdown",
   "metadata": {},
   "source": [
    "ЧАСТЬ 2.2 СТАТИСТИЧЕСКИЙ АНАЛИЗ ДАННЫХ"
   ]
  },
  {
   "cell_type": "code",
   "execution_count": 211,
   "metadata": {},
   "outputs": [
    {
     "name": "stdout",
     "output_type": "stream",
     "text": [
      "p-value = 0.000\n",
      "Распределение не нормальное\n"
     ]
    }
   ],
   "source": [
    "# Для начала проверим гипотезу о повышении зарплат с годами\n",
    "\n",
    "# Создаем списки зарплат по годам\n",
    "salary_2020 = list(data[data['work_year'] == 2020]['salary']) # список зарплат за 2020 год\n",
    "salary_2021 = list(data[data['work_year'] == 2021]['salary']) # список зарплат за 2021 год\n",
    "salary_2022 = list(data[data['work_year'] == 2022]['salary']) # список зарплат за 2022 год\n",
    "\n",
    "# Проверим данные на нормальное распределение\n",
    "# задаём уровень значимости\n",
    "alpha = 0.05 \n",
    "\n",
    "# проводим тест Шапиро — Уилка\n",
    "_, p20 = stats.shapiro(data['salary'])\n",
    "\n",
    "print('p-value = %.3f' % (p20))\n",
    "\n",
    "# интерпретируем результат\n",
    "if p20 <= alpha:\n",
    "    print('Распределение не нормальное')\n",
    "else:\n",
    "    print('Распределение нормальное')\n",
    "\n"
   ]
  },
  {
   "cell_type": "code",
   "execution_count": 212,
   "metadata": {},
   "outputs": [
    {
     "name": "stdout",
     "output_type": "stream",
     "text": [
      "p-value = 0.249\n",
      "p-значение больше, чем заданный уровень значимости 0.05. У нас нет оснований отвергнуть нулевую гипотезу.\n",
      "Зарплаты в 2020 году равны зарплатам в 2021 году\n",
      "p-value = 0.000\n",
      "p-значение меньше, чем заданный уровень значимости 0.05. Отвергаем нулевую гипотезу.\n",
      "Зарплаты в 2021 годы меньше, чем зарплаты в 2022 году\n"
     ]
    }
   ],
   "source": [
    "#  Проведем непараметрические тесты Манна-Уитни\n",
    "# задаём уровень значимости\n",
    "alpha = 0.05 \n",
    "\n",
    "# Напишем гипотезы\n",
    "H1o = 'Зарплаты в 2020 году равны зарплатам в 2021 году'\n",
    "H1a = 'Зарплаты в 2020 годы меньше, чем зарплаты в 2021 году'\n",
    "\n",
    "H2o = 'Зарплаты в 2021 году равны зарплатам в 2022 году'\n",
    "H2a = 'Зарплаты в 2021 годы меньше, чем зарплаты в 2022 году'\n",
    "\n",
    "# проводим тест, сравним сначала данные 2020 и 2021 годов, а затем данные 2021 и 2022\n",
    "_, p1 = stats.mannwhitneyu(salary_2020, salary_2021, alternative='less')\n",
    "\n",
    "print('p-value = {:.3f}'.format(p1))\n",
    "\n",
    "# интерпретируем результат\n",
    "if p1 <= alpha:\n",
    "    print('p-значение меньше, чем заданный уровень значимости {:.2f}. Отвергаем нулевую гипотезу.'.format(alpha))\n",
    "    print(H1a)\n",
    "else:\n",
    "    print('p-значение больше, чем заданный уровень значимости {:.2f}. У нас нет оснований отвергнуть нулевую гипотезу.'.format(alpha))\n",
    "    print(H1o)\n",
    "\n",
    "_, p2 = stats.mannwhitneyu(salary_2021, salary_2022, alternative='less')\n",
    "\n",
    "print('p-value = {:.3f}'.format(p2))\n",
    "\n",
    "# интерпретируем результат\n",
    "if p2 <= alpha:\n",
    "    print('p-значение меньше, чем заданный уровень значимости {:.2f}. Отвергаем нулевую гипотезу.'.format(alpha))\n",
    "    print(H2a)\n",
    "else:\n",
    "    print('p-значение больше, чем заданный уровень значимости {:.2f}. У нас нет оснований отвергнуть нулевую гипотезу.'.format(alpha))\n",
    "    print(H20)"
   ]
  },
  {
   "cell_type": "markdown",
   "metadata": {},
   "source": [
    "Проведя статистические тесты, мы отвергаем изначальный вывод о том, что зарплаты растут с каждым годом, сделанный по итогам визуального анализа. Можем сделать вывод, что в 2020 и 2021 году зарплаты были одинаковые, а в 2022 они выросли!"
   ]
  },
  {
   "cell_type": "code",
   "execution_count": 213,
   "metadata": {},
   "outputs": [
    {
     "name": "stdout",
     "output_type": "stream",
     "text": [
      "p-value = 0.022\n",
      "p-значение меньше, чем заданный уровень значимости 0.05. Отвергаем нулевую гипотезу.\n",
      "Зарплаты Data Engineer в 2022 году ниже, чем у Data Scientist\n"
     ]
    }
   ],
   "source": [
    "# Теперь проверим вывод о том, что зарплаты Data Scientist выше, чем Data Engineer в 2022 году.\n",
    "# Для этого также воспользуемся тестом Манна-Уитни\n",
    "\n",
    "# Создадим списки зарплат разных специалистов\n",
    "salary_scientist_2022 = data_scientists2022['salary']\n",
    "salary_engineer_2022 = data_engineer2022['salary']\n",
    "\n",
    "# задаём уровень значимости\n",
    "alpha = 0.05 \n",
    "\n",
    "# Напишем гипотезы\n",
    "Ho = 'Зарплаты Data Engineer в 2022 году равны зарплатам Data Scientist'\n",
    "Ha = 'Зарплаты Data Engineer в 2022 году ниже, чем у Data Scientist'\n",
    "\n",
    "# проводим тест, сравним сначала данные 2020 и 2021 годов, а затем данные 2021 и 2022\n",
    "_, p1 = stats.mannwhitneyu(salary_engineer_2022, salary_scientist_2022, alternative='less')\n",
    "\n",
    "print('p-value = {:.3f}'.format(p1))\n",
    "\n",
    "# интерпретируем результат\n",
    "if p1 <= alpha:\n",
    "    print('p-значение меньше, чем заданный уровень значимости {:.2f}. Отвергаем нулевую гипотезу.'.format(alpha))\n",
    "    print(Ha)\n",
    "else:\n",
    "    print('p-значение больше, чем заданный уровень значимости {:.2f}. У нас нет оснований отвергнуть нулевую гипотезу.'.format(alpha))\n",
    "    print(Ho)"
   ]
  },
  {
   "cell_type": "markdown",
   "metadata": {},
   "source": [
    "Проведя статистический тест мы получили подтверждение нашей гипотезы о том, что зарплаты Data Scientist в 2022 год выше, чем у Data Engineer."
   ]
  },
  {
   "cell_type": "code",
   "execution_count": 214,
   "metadata": {},
   "outputs": [
    {
     "name": "stdout",
     "output_type": "stream",
     "text": [
      "p-value = 0.000\n",
      "p-значение меньше, чем заданный уровень значимости 0.05. Отвергаем нулевую гипотезу.\n",
      "Зарплаты Data Scientitst в компаниях различных размеров неодинаковы\n"
     ]
    }
   ],
   "source": [
    "# Теперь проверим как соотносятся зарплаты специалистов Data Scientist в компаниях различных размеров\n",
    "# Cначала проведем тест Краскела-Уоллиса чтобы проверить гиппотезу о том, что зарплаты в компаниях различных размеров неодинаковы\n",
    "\n",
    "# Задаём уровень значимости\n",
    "alpha = 0.05 \n",
    "\n",
    "# Формулируем гипотезы\n",
    "Ho = 'Зарплаты Data Scientitst одинаковые в компаниях различных размеров неодинаковы'\n",
    "Ha = 'Зарплаты Data Scientitst в компаниях различных размеров неодинаковы'\n",
    "\n",
    "# Создаем списки зарплат\n",
    "scientist_salary_small = data_scientists[data_scientists['company_size'] == 'S']['salary']\n",
    "scientist_salary_medium = data_scientists[data_scientists['company_size'] == 'M']['salary']\n",
    "scientist_salary_large = data_scientists[data_scientists['company_size'] == 'L']['salary']\n",
    "\n",
    "# проводим тест\n",
    "_, p = stats.kruskal(scientist_salary_small, scientist_salary_medium, scientist_salary_large)\n",
    "\n",
    "print('p-value = {:.3f}'.format(p))\n",
    "\n",
    "# интерпретируем результат\n",
    "if p <= alpha:\n",
    "    print('p-значение меньше, чем заданный уровень значимости {:.2f}. Отвергаем нулевую гипотезу.'.format(alpha))\n",
    "    print(Ha)\n",
    "else:\n",
    "    print('p-значение больше, чем заданный уровень значимости {:.2f}. У нас нет оснований отвергнуть нулевую гипотезу.'.format(alpha))\n",
    "    print(Ho)"
   ]
  },
  {
   "cell_type": "markdown",
   "metadata": {},
   "source": [
    "По итогам статистического теста подтверждаем нашу гипотезу о том, что в различных размерах компаниях зарплаты Data Scientist неодинаковые."
   ]
  },
  {
   "cell_type": "code",
   "execution_count": 215,
   "metadata": {},
   "outputs": [
    {
     "name": "stdout",
     "output_type": "stream",
     "text": [
      "p-value = 0.001\n",
      "p-значение меньше, чем заданный уровень значимости 0.05. Отвергаем нулевую гипотезу.\n",
      "Зарплаты у Data Scientist в маленьких компаниях меньше, чем в больших.\n",
      "p-value = 0.145\n",
      "p-значение больше, чем заданный уровень значимости 0.05. У нас нет оснований отвергнуть нулевую гипотезу.\n",
      "Зарплаты в средних и больших компаниях одинаковые у Data Scientist.\n"
     ]
    }
   ],
   "source": [
    "# Проведем тесты Манна-Уитни и сравним зарплаты Data Scientist в различных размерах компаниях\n",
    "# задаём уровень значимости\n",
    "alpha = 0.05 \n",
    "\n",
    "# Напишем гипотезы\n",
    "H1o = 'Зарплаты в маленьких и больших компаниях одинаковые у Data Scientist.'\n",
    "H1a = 'Зарплаты у Data Scientist в маленьких компаниях меньше, чем в больших.'\n",
    "\n",
    "H2o = 'Зарплаты в средних и больших компаниях одинаковые у Data Scientist.'\n",
    "H2a = 'Зарплаты у Data Scientist в больших компаниях меньше, чем в средних.'\n",
    "\n",
    "# проводим тесты, сравним сначала зарплаты в маленьких и больших компаниях, а затем в средних и больших\n",
    "_, p1 = stats.mannwhitneyu(scientist_salary_small, scientist_salary_large, alternative='less')\n",
    "\n",
    "print('p-value = {:.3f}'.format(p1))\n",
    "\n",
    "# интерпретируем результат\n",
    "if p1 <= alpha:\n",
    "    print('p-значение меньше, чем заданный уровень значимости {:.2f}. Отвергаем нулевую гипотезу.'.format(alpha))\n",
    "    print(H1a)\n",
    "else:\n",
    "    print('p-значение больше, чем заданный уровень значимости {:.2f}. У нас нет оснований отвергнуть нулевую гипотезу.'.format(alpha))\n",
    "    print(H1o)\n",
    "_, p2 = stats.mannwhitneyu(scientist_salary_large, scientist_salary_medium, alternative='less')\n",
    "\n",
    "print('p-value = {:.3f}'.format(p2))\n",
    "\n",
    "# интерпретируем результат\n",
    "if p2 <= alpha:\n",
    "    print('p-значение меньше, чем заданный уровень значимости {:.2f}. Отвергаем нулевую гипотезу.'.format(alpha))\n",
    "    print(H2a)\n",
    "else:\n",
    "    print('p-значение больше, чем заданный уровень значимости {:.2f}. У нас нет оснований отвергнуть нулевую гипотезу.'.format(alpha))\n",
    "    print(H2o)"
   ]
  },
  {
   "cell_type": "markdown",
   "metadata": {},
   "source": [
    "По итогам статистических тестов частично подтверждаем наши визуальные выводы по поводу разницы зарплат в различных типах компаний. Делаем вывод, что в средних и больших компаниях зарплаты одинаковые, а в маленьких зарплаты меньше."
   ]
  },
  {
   "cell_type": "code",
   "execution_count": 216,
   "metadata": {},
   "outputs": [
    {
     "name": "stdout",
     "output_type": "stream",
     "text": [
      "p-value = 1.000\n",
      "p-значение больше, чем заданный уровень значимости 0.05. У нас нет оснований отвергнуть нулевую гипотезу.\n",
      "Наличие Data Scientist в компании не зависит от её размера. То есть, размер компании и наличие Data Scientist независимы.\n",
      "p-value = 1.000\n",
      "p-значение больше, чем заданный уровень значимости 0.05. У нас нет оснований отвергнуть нулевую гипотезу.\n",
      "Наличие Data Engineer в компании не зависит от её размера. То есть, размер компании и наличие Data Engineer независимы.\n"
     ]
    }
   ],
   "source": [
    "# Создание контингентных таблиц\n",
    "contingency_table1 = pd.crosstab(data['company_size'], data['has_data_scientist'])\n",
    "contingency_table2 = pd.crosstab(data['company_size'], data['has_data_engineer'])\n",
    "\n",
    "# Задаём уровень значимости\n",
    "alpha = 0.05 \n",
    "\n",
    "# Сформулируем гипотезы\n",
    "H1o = 'Наличие Data Scientist в компании не зависит от её размера. То есть, размер компании и наличие Data Scientist независимы.'\n",
    "H1a = 'Наличие Data Scientist в компании зависит от её размера. То есть, размер компании и наличие Data Scientist зависимы.'\n",
    "\n",
    "H2o = 'Наличие Data Engineer в компании не зависит от её размера. То есть, размер компании и наличие Data Engineer независимы.'\n",
    "H2a = 'Наличие Data Engineer в компании зависит от её размера. То есть, размер компании и наличие Data Engineer зависимы.'\n",
    "\n",
    "# Проведение Хи-квадрат тестов\n",
    "_, p1, _, _ = chi2_contingency(contingency_table1)\n",
    "\n",
    "print('p-value = {:.3f}'.format(p1))\n",
    "\n",
    "# Интерпретируем результат\n",
    "if p1 <= alpha:\n",
    "    print('p-значение меньше, чем заданный уровень значимости {:.2f}. Отвергаем нулевую гипотезу.'.format(alpha))\n",
    "    print(H1a)\n",
    "else:\n",
    "    print('p-значение больше, чем заданный уровень значимости {:.2f}. У нас нет оснований отвергнуть нулевую гипотезу.'.format(alpha))\n",
    "    print(H1o)\n",
    "\n",
    "_, p2, _, _ = chi2_contingency(contingency_table2)\n",
    "\n",
    "print('p-value = {:.3f}'.format(p2))\n",
    "\n",
    "# Интерпретируем результат\n",
    "if p2 <= alpha:\n",
    "    print('p-значение меньше, чем заданный уровень значимости {:.2f}. Отвергаем нулевую гипотезу.'.format(alpha))\n",
    "    print(H2a)\n",
    "else:\n",
    "    print('p-значение больше, чем заданный уровень значимости {:.2f}. У нас нет оснований отвергнуть нулевую гипотезу.'.format(alpha))\n",
    "    print(H2o)\n"
   ]
  },
  {
   "cell_type": "markdown",
   "metadata": {},
   "source": [
    "По итогам статистических тестов можем сделать вывод, что наличие должностей Data Science и Data Engineer не влияют на размер компании."
   ]
  },
  {
   "cell_type": "code",
   "execution_count": 217,
   "metadata": {},
   "outputs": [
    {
     "name": "stdout",
     "output_type": "stream",
     "text": [
      "p-value = 0.000\n",
      "p-значение меньше, чем заданный уровень значимости 0.05. Отвергаем нулевую гипотезу.\n",
      "Зарплаты отличаются в зависимости от количства выполняемой работы удаленно\n"
     ]
    }
   ],
   "source": [
    "# Проверим влияет ли показатель удаленной работы на размер зарплаты\n",
    "# Cначала проведем тест Краскела-Уоллиса \n",
    "\n",
    "# Задаём уровень значимости\n",
    "alpha = 0.05 \n",
    "\n",
    "# Формулируем гипотезы\n",
    "Ho = 'Зарплаты одинаковые независимо от количества выполняемой работы удаленно'\n",
    "Ha = 'Зарплаты отличаются в зависимости от количства выполняемой работы удаленно'\n",
    "\n",
    "# Создаем списки зарплат\n",
    "non_distant = data_scientists[data_scientists['remote_ratio'] == 0]['salary']\n",
    "half_distant = data_scientists[data_scientists['remote_ratio'] == 50]['salary']\n",
    "full_distant = data_scientists[data_scientists['remote_ratio'] == 100]['salary']\n",
    "\n",
    "# проводим тест\n",
    "_, p = stats.kruskal(non_distant, half_distant, full_distant)\n",
    "\n",
    "print('p-value = {:.3f}'.format(p))\n",
    "\n",
    "# интерпретируем результат\n",
    "if p <= alpha:\n",
    "    print('p-значение меньше, чем заданный уровень значимости {:.2f}. Отвергаем нулевую гипотезу.'.format(alpha))\n",
    "    print(Ha)\n",
    "else:\n",
    "    print('p-значение больше, чем заданный уровень значимости {:.2f}. У нас нет оснований отвергнуть нулевую гипотезу.'.format(alpha))\n",
    "    print(Ho)"
   ]
  },
  {
   "cell_type": "markdown",
   "metadata": {},
   "source": [
    "По итогам теста видим, что тип работы влият на зарплату. Дальше проверим наши предположения о том, что самые большие зарплаты у полностью удаленных сотрудников, а у сотрудников выполняющих 50% работы удаленно самые маленькие зарплаты."
   ]
  },
  {
   "cell_type": "code",
   "execution_count": 218,
   "metadata": {},
   "outputs": [
    {
     "name": "stdout",
     "output_type": "stream",
     "text": [
      "p-value = 0.000\n",
      "p-значение меньше, чем заданный уровень значимости 0.05. Отвергаем нулевую гипотезу.\n",
      "Зарплаты у сотрудников выполняющих 50% работы удаленно меньше, чем заплаты полностью удаленных сотрудников.\n",
      "p-value = 0.009\n",
      "p-значение меньше, чем заданный уровень значимости 0.05. Отвергаем нулевую гипотезу.\n",
      "Зарплаты у сотрудников выполняющих 50% работы удаленно меньше, чем заплаты сотрудников у которых нет удаленной работы.\n",
      "p-value = 0.047\n",
      "p-значение меньше, чем заданный уровень значимости 0.05. Отвергаем нулевую гипотезу.\n",
      "Зарплаты у сотрудников, у которых нет удаленной работы меньше, чем у полностью удаленных.\n"
     ]
    }
   ],
   "source": [
    "# Проведем тесты Манна-Уитни и сравним зарплаты в зависимости от типа работы\n",
    "# задаём уровень значимости\n",
    "alpha = 0.05 \n",
    "\n",
    "# Напишем гипотезы\n",
    "H1o = 'Зарплаты у сотрудников выполняющих 50% работы удаленно равны заплатам полностью удаленных сотрудников.'\n",
    "H1a = 'Зарплаты у сотрудников выполняющих 50% работы удаленно меньше, чем заплаты полностью удаленных сотрудников.'\n",
    "\n",
    "H2o = 'Зарплаты у сотрудников выполняющих 50% работы удаленно равны заплатам сотрудников у которых нет удаленной работы.'\n",
    "H2a = 'Зарплаты у сотрудников выполняющих 50% работы удаленно меньше, чем заплаты сотрудников у которых нет удаленной работы.'\n",
    "\n",
    "H3o = 'Зарплаты у сотрудников, у которых нет удаленной работы равны зарплатам полностью удаленных.'\n",
    "H3a = 'Зарплаты у сотрудников, у которых нет удаленной работы меньше, чем у полностью удаленных.'\n",
    "\n",
    "# проводим тесты, сравним сначала зарплаты в маленьких и больших компаниях, а затем в средних и больших\n",
    "_, p1 = stats.mannwhitneyu(half_distant, full_distant, alternative='less')\n",
    "\n",
    "print('p-value = {:.3f}'.format(p1))\n",
    "\n",
    "# интерпретируем результат\n",
    "if p1 <= alpha:\n",
    "    print('p-значение меньше, чем заданный уровень значимости {:.2f}. Отвергаем нулевую гипотезу.'.format(alpha))\n",
    "    print(H1a)\n",
    "else:\n",
    "    print('p-значение больше, чем заданный уровень значимости {:.2f}. У нас нет оснований отвергнуть нулевую гипотезу.'.format(alpha))\n",
    "    print(H1o)\n",
    "    \n",
    "_, p2 = stats.mannwhitneyu(half_distant, non_distant, alternative='less')\n",
    "\n",
    "print('p-value = {:.3f}'.format(p2))\n",
    "\n",
    "# интерпретируем результат\n",
    "if p2 <= alpha:\n",
    "    print('p-значение меньше, чем заданный уровень значимости {:.2f}. Отвергаем нулевую гипотезу.'.format(alpha))\n",
    "    print(H2a)\n",
    "else:\n",
    "    print('p-значение больше, чем заданный уровень значимости {:.2f}. У нас нет оснований отвергнуть нулевую гипотезу.'.format(alpha))\n",
    "    print(H2o)\n",
    "\n",
    "_, p3 = stats.mannwhitneyu(non_distant, full_distant, alternative='less')\n",
    "\n",
    "print('p-value = {:.3f}'.format(p3))\n",
    "\n",
    "# интерпретируем результат\n",
    "if p3 <= alpha:\n",
    "    print('p-значение меньше, чем заданный уровень значимости {:.2f}. Отвергаем нулевую гипотезу.'.format(alpha))\n",
    "    print(H3a)\n",
    "else:\n",
    "    print('p-значение больше, чем заданный уровень значимости {:.2f}. У нас нет оснований отвергнуть нулевую гипотезу.'.format(alpha))\n",
    "    print(H3o)"
   ]
  },
  {
   "cell_type": "markdown",
   "metadata": {},
   "source": [
    "Таким образом полностью подтвердили, что самые большие зарплаты у полностью удаленных, а самые маленькие у тех, кто выполняет 50% работы удаленно."
   ]
  },
  {
   "cell_type": "code",
   "execution_count": 219,
   "metadata": {},
   "outputs": [
    {
     "name": "stdout",
     "output_type": "stream",
     "text": [
      "p-value = 0.006\n",
      "p-значение меньше, чем заданный уровень значимости 0.05. Отвергаем нулевую гипотезу.\n",
      "Зарплаты на начальных должностях меньше, чем на средних.\n",
      "p-value = 0.000\n",
      "p-значение меньше, чем заданный уровень значимости 0.05. Отвергаем нулевую гипотезу.\n",
      "Зарплаты на начальных должностях меньше, чем на высоких.\n",
      "p-value = 0.000\n",
      "p-значение меньше, чем заданный уровень значимости 0.05. Отвергаем нулевую гипотезу.\n",
      "Зарплаты на средних должностях меньше, чем на высоких.\n"
     ]
    }
   ],
   "source": [
    "# Дальше проверим как опыт работы влияет на зарплату, будем сравнивать три категории: Entry-level/Junior, Mid-level/Intermediate и SE — Senior-level/Expert + Executive-level/Director\n",
    "# Проверим вывод о том, что меньше всех получают люди на начальных этапах карьеры, а больше всех те, кто имеет большой опыт или занимающих руководящие должности\n",
    "\n",
    "# задаём уровень значимости\n",
    "alpha = 0.05 \n",
    "\n",
    "# Создаем списки зарплат\n",
    "junior = data_scientists[data_scientists['experience_level'] == 'EN']['salary']\n",
    "intermediate = data_scientists[data_scientists['experience_level'] == 'MI']['salary']\n",
    "expert_director = data_scientists[(data_scientists['experience_level'] == 'SE') | (data_scientists['experience_level'] == 'EX')]['salary']\n",
    "\n",
    "# Напишем гипотезы\n",
    "H1o = 'Зарплаты на начальных должностях равны зарплатам на средних.'\n",
    "H1a = 'Зарплаты на начальных должностях меньше, чем на средних.'\n",
    "\n",
    "H2o = 'Зарплаты на начальных должностях равны зарплатам на высоких.'\n",
    "H2a = 'Зарплаты на начальных должностях меньше, чем на высоких.'\n",
    "\n",
    "H3o = 'Зарплаты на средних должностях равны зарплатам на высоких.'\n",
    "H3a = 'Зарплаты на средних должностях меньше, чем на высоких.'\n",
    "\n",
    "# проводим тесты, сравним сначала зарплаты в маленьких и больших компаниях, а затем в средних и больших\n",
    "_, p1 = stats.mannwhitneyu(junior, intermediate, alternative='less')\n",
    "\n",
    "print('p-value = {:.3f}'.format(p1))\n",
    "\n",
    "# интерпретируем результат\n",
    "if p1 <= alpha:\n",
    "    print('p-значение меньше, чем заданный уровень значимости {:.2f}. Отвергаем нулевую гипотезу.'.format(alpha))\n",
    "    print(H1a)\n",
    "else:\n",
    "    print('p-значение больше, чем заданный уровень значимости {:.2f}. У нас нет оснований отвергнуть нулевую гипотезу.'.format(alpha))\n",
    "    print(H1o)\n",
    "    \n",
    "_, p2 = stats.mannwhitneyu(junior, expert_director, alternative='less')\n",
    "\n",
    "print('p-value = {:.3f}'.format(p2))\n",
    "\n",
    "# интерпретируем результат\n",
    "if p2 <= alpha:\n",
    "    print('p-значение меньше, чем заданный уровень значимости {:.2f}. Отвергаем нулевую гипотезу.'.format(alpha))\n",
    "    print(H2a)\n",
    "else:\n",
    "    print('p-значение больше, чем заданный уровень значимости {:.2f}. У нас нет оснований отвергнуть нулевую гипотезу.'.format(alpha))\n",
    "    print(H2o)\n",
    "\n",
    "_, p3 = stats.mannwhitneyu(intermediate, expert_director, alternative='less')\n",
    "\n",
    "print('p-value = {:.3f}'.format(p3))\n",
    "\n",
    "# интерпретируем результат\n",
    "if p3 <= alpha:\n",
    "    print('p-значение меньше, чем заданный уровень значимости {:.2f}. Отвергаем нулевую гипотезу.'.format(alpha))\n",
    "    print(H3a)\n",
    "else:\n",
    "    print('p-значение больше, чем заданный уровень значимости {:.2f}. У нас нет оснований отвергнуть нулевую гипотезу.'.format(alpha))\n",
    "    print(H3o)"
   ]
  },
  {
   "cell_type": "markdown",
   "metadata": {},
   "source": [
    "Таким образом мы подтвердили наши гипотезы. Самые большие зарплаты у тех, кто имеет большой опыт/занимают руководящие должности, а самые маленнькие у тех, кто занимает начальные должности."
   ]
  },
  {
   "cell_type": "code",
   "execution_count": 220,
   "metadata": {},
   "outputs": [
    {
     "name": "stdout",
     "output_type": "stream",
     "text": [
      "p-value = 0.112\n",
      "p-значение больше, чем заданный уровень значимости 0.05. У нас нет оснований отвергнуть нулевую гипотезу.\n",
      "Зарплаты у тех, кто на неполном рабочем дне равны тем, кто на полном/контракте.\n",
      "p-value = 0.500\n",
      "p-значение больше, чем заданный уровень значимости 0.05. У нас нет оснований отвергнуть нулевую гипотезу.\n",
      "Зарплаты у тех, кто на неполном рабочем дне равны тем, кто на фрилансе.\n",
      "p-value = 0.422\n",
      "p-значение больше, чем заданный уровень значимости 0.05. У нас нет оснований отвергнуть нулевую гипотезу.\n",
      "Зарплаты у тех, кто на фрилансе равны тем, кто на полном рабочем дне/контракте.\n"
     ]
    }
   ],
   "source": [
    "# Теперь проверим как влияет тип трудоустройства на заработнуюу плату. Будем рассматривать три категории: неполный рабочий день, фриланс и контракт/полный рабочий день\n",
    "# Проверим предположение о том, что самый маленькие зарплаты у тех, кто на неполном рабочем дне, а самые большие у тех, кто на полном рабочем дне или те, у кого контракт\n",
    "\n",
    "# Задаём уровень значимости\n",
    "alpha = 0.05 \n",
    "\n",
    "# Создаем списки зарплат\n",
    "part = data_scientists[data_scientists['employment_type'] == 'PT']['salary']\n",
    "free = data_scientists[data_scientists['employment_type'] == 'FL']['salary']\n",
    "full = data_scientists[(data_scientists['employment_type'] == 'CT') | (data_scientists['employment_type'] == 'FT')]['salary']\n",
    "\n",
    "# Напишем гипотезы\n",
    "H1o = 'Зарплаты у тех, кто на неполном рабочем дне равны тем, кто на полном/контракте.'\n",
    "H1a = 'Зарплаты у тех, кто на неполном рабочем дне меньше, чем у тех, кто на полном/контракте.'\n",
    "\n",
    "H2o = 'Зарплаты у тех, кто на неполном рабочем дне равны тем, кто на фрилансе.'\n",
    "H2a = 'Зарплаты у тех, кто на неполном рабочем дне меньше, чем у тех, кто на фрилансе.'\n",
    "\n",
    "H3o = 'Зарплаты у тех, кто на фрилансе равны тем, кто на полном рабочем дне/контракте.'\n",
    "H3a = 'Зарплаты у тех, кто на фрилансе меньше, чем у тех, кто на полном рабочем дне/контракте.'\n",
    "\n",
    "# Проводим тесты, сравним сначала зарплаты в маленьких и больших компаниях, а затем в средних и больших\n",
    "_, p1 = stats.mannwhitneyu(part, full, alternative='less')\n",
    "\n",
    "print('p-value = {:.3f}'.format(p1))\n",
    "\n",
    "# Интерпретируем результат\n",
    "if p1 <= alpha:\n",
    "    print('p-значение меньше, чем заданный уровень значимости {:.2f}. Отвергаем нулевую гипотезу.'.format(alpha))\n",
    "    print(H1a)\n",
    "else:\n",
    "    print('p-значение больше, чем заданный уровень значимости {:.2f}. У нас нет оснований отвергнуть нулевую гипотезу.'.format(alpha))\n",
    "    print(H1o)\n",
    "    \n",
    "_, p2 = stats.mannwhitneyu(part, free, alternative='less')\n",
    "\n",
    "print('p-value = {:.3f}'.format(p2))\n",
    "\n",
    "# Интерпретируем результат\n",
    "if p2 <= alpha:\n",
    "    print('p-значение меньше, чем заданный уровень значимости {:.2f}. Отвергаем нулевую гипотезу.'.format(alpha))\n",
    "    print(H2a)\n",
    "else:\n",
    "    print('p-значение больше, чем заданный уровень значимости {:.2f}. У нас нет оснований отвергнуть нулевую гипотезу.'.format(alpha))\n",
    "    print(H2o)\n",
    "\n",
    "_, p3 = stats.mannwhitneyu(free, full, alternative='less')\n",
    "\n",
    "print('p-value = {:.3f}'.format(p3))\n",
    "\n",
    "# Интерпретируем результат\n",
    "if p3 <= alpha:\n",
    "    print('p-значение меньше, чем заданный уровень значимости {:.2f}. Отвергаем нулевую гипотезу.'.format(alpha))\n",
    "    print(H3a)\n",
    "else:\n",
    "    print('p-значение больше, чем заданный уровень значимости {:.2f}. У нас нет оснований отвергнуть нулевую гипотезу.'.format(alpha))\n",
    "    print(H3o)"
   ]
  },
  {
   "cell_type": "markdown",
   "metadata": {},
   "source": [
    "По итогам тестов не подтверждаем нашу гипотезу, зарплата не зависит от типа трудоустройства."
   ]
  },
  {
   "cell_type": "markdown",
   "metadata": {},
   "source": [
    "ВЫВОДЫ.  \n",
    "\n",
    "Проведя визуальный и статистичский анализ данных мы можем сделать следующие выводы:  \n",
    "1) На зарплату влияют такие факторы, как опыт работы, чем он больше, тем больше зарплата.  \n",
    "2) Общий ообъем работы, выполняемой удаленно. Самые большие зарплаты у полностью удаленных сотрудников, а самые маленькие у тех, кто выполняет 50% удаленно.  \n",
    "3) Размер компании. В средних и больших компаниях самые большие зарплаты.  \n",
    "Отвечаем на поставленные вопросы:  \n",
    "В 2020 и 2021 году были равные зарплаты, в 2022 произошел рост зарплат.  \n",
    "В 2022 году зарплаты Data Scientist больше, чем зарплаты Data Engineer.  \n",
    "Зарплаты специалистов Data Scientist больше в средних и больших компаниях, нежели в маленьких.  \n",
    "Связи между наличием должностей Data Scientist и Data Engineer и размером компании нет."
   ]
  }
 ],
 "metadata": {
  "kernelspec": {
   "display_name": "Python 3",
   "language": "python",
   "name": "python3"
  },
  "language_info": {
   "codemirror_mode": {
    "name": "ipython",
    "version": 3
   },
   "file_extension": ".py",
   "mimetype": "text/x-python",
   "name": "python",
   "nbconvert_exporter": "python",
   "pygments_lexer": "ipython3",
   "version": "3.9.10"
  },
  "orig_nbformat": 4
 },
 "nbformat": 4,
 "nbformat_minor": 2
}
